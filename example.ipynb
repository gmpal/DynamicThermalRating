{
 "cells": [
  {
   "attachments": {},
   "cell_type": "markdown",
   "metadata": {},
   "source": [
    "First, we import the necessary modules"
   ]
  },
  {
   "cell_type": "code",
   "execution_count": null,
   "metadata": {},
   "outputs": [],
   "source": [
    "from dtr import DTR\n",
    "import pandas as pd\n",
    "from keras.models import load_model"
   ]
  },
  {
   "attachments": {},
   "cell_type": "markdown",
   "metadata": {},
   "source": [
    "Then we load the data, and we clearly specify the inputs and the outputs "
   ]
  },
  {
   "cell_type": "code",
   "execution_count": null,
   "metadata": {},
   "outputs": [],
   "source": [
    "data = pd.read_csv('./artificial_data.csv',index_col=0, infer_datetime_format=True, parse_dates=['datetime'])\n",
    "inputs = ['Wind Speed [m/s]', 'Arranged Wind Dir [°]', 'Air temp [°C]', 'Humidity [%]', 'Sun irradiance thermal flow absorbed by the conductor.[W/m]', 'Current flow [A]']\n",
    "output = ['Actual Conductor Temp (t+1) [°C]']"
   ]
  },
  {
   "cell_type": "markdown",
   "metadata": {},
   "source": [
    "We instantiate our DTR object as follows, passing the `data`, `inputs`, and `outputs` parameter from before. The DTR class provides user-friendly functions to easily perform the proposed experiments and adapt them to run with your own data. "
   ]
  },
  {
   "cell_type": "code",
   "execution_count": null,
   "metadata": {},
   "outputs": [],
   "source": [
    "dtr = DTR(data, inputs, output)"
   ]
  },
  {
   "attachments": {},
   "cell_type": "markdown",
   "metadata": {},
   "source": [
    "The `compute_sensors_distance` function computes various statistics that measure the distance between pairs of sensors in the given dataset. Specifically, it computes the mean difference, standard deviation difference, euclidean distance, manhattan distance, cosine similarity, and KDE area difference between the two sensor dataframes. "
   ]
  },
  {
   "cell_type": "code",
   "execution_count": null,
   "metadata": {},
   "outputs": [],
   "source": [
    "dtr.compute_sensors_distance()"
   ]
  },
  {
   "attachments": {},
   "cell_type": "markdown",
   "metadata": {},
   "source": [
    "If the dataset are particularly large, the execution might be long. Therefore, it is recommended to export the computed distances after the first execution, and then load them for the following executions, as follows: "
   ]
  },
  {
   "cell_type": "code",
   "execution_count": null,
   "metadata": {},
   "outputs": [],
   "source": [
    "dtr.export_distances('./distances.csv')\n",
    "dtr.load_distances('./distances.csv')"
   ]
  },
  {
   "attachments": {},
   "cell_type": "markdown",
   "metadata": {},
   "source": [
    "You can inspect the metrics measured as follows, and find the couple of sensors that minimizes the distance of your preference. "
   ]
  },
  {
   "cell_type": "code",
   "execution_count": null,
   "metadata": {},
   "outputs": [],
   "source": [
    "print(dtr.get_distances())"
   ]
  },
  {
   "attachments": {},
   "cell_type": "markdown",
   "metadata": {},
   "source": [
    "Before starting, we will load our base regressor.\n"
   ]
  },
  {
   "cell_type": "code",
   "execution_count": null,
   "metadata": {},
   "outputs": [],
   "source": [
    "model = load_model('model.h5')"
   ]
  },
  {
   "attachments": {},
   "cell_type": "markdown",
   "metadata": {},
   "source": [
    "And here is the core of our code. The `transfer` function is designed to perform transfer learning from one sensor (identified by the `source_sensor_id` parameter) to another sensor (identified by the `target_sensor_id parameter`) using a specified method. "
   ]
  },
  {
   "cell_type": "code",
   "execution_count": null,
   "metadata": {},
   "outputs": [],
   "source": [
    "dtr.transfer(source_sensor_id = 7, \n",
    "            target_sensor_id= 1, \n",
    "            method = 'parameter_based_transfer', \n",
    "            target_num_available_days = 15, \n",
    "            target_num_test_days=30, \n",
    "            sliding_window = False, \n",
    "            regressor=model, \n",
    "            verbose = 1, \n",
    "            epochs = 5,  \n",
    "            batch_size = 500, \n",
    "            ieee=True, \n",
    "            estimators_tradaboost = 5,\n",
    "            store_predictions=True)     "
   ]
  },
  {
   "attachments": {},
   "cell_type": "markdown",
   "metadata": {},
   "source": [
    "The `method` parameter can take on the value `parameter_based_transfer`, `instance_based_transfer`, `both`. The differences between the methods are explained in the [Methods](#methods) section.  which suggests that the function performs some form of parameter-based transfer learning.\n",
    "\n",
    "The `target_num_available_days` specifies the number of days from the target sensor that are available when performing transfer learning. `target_num_test_days` instead indicates the number of days to be used as a test set. Exactly which days are considered is chosen as follows: for the test set it's always the last `target_num_test_days` of the target sensor; for the available data there are two options. If `sliding_window` is False, a random window of `target_num_available_days` is chosen between the beginning of the target sensor data and the beginning of the test set.  If `sliding_window` is True, *all possible windows* of size `target_num_available_days` that are located between the beginning of the target sensor data and the beginning of the test set are tested, and the result is averaged. (Notice that this might be particularly slow!)\n",
    "\n",
    "The `regressor` parameter specifies a model that will be used to perform the transfer. The `epochs` and `batch_size` parameters specify the number of epochs and batch size to be used in training the model, when the model is a Neural Network.  The `estimators_tradaboost` parameter specifies the number of estimators to use in the TrAdaBoost.R2 instance-based approach. \n",
    "\n",
    "The `ieee` parameter determines whether or not the function should consider the IEEE738 estimation for the conductor temperature in the methods comparison. NB: the function `transfer()` **does not compute the IEEE738 estimation** for the conductor temperature ! It should be present in the dataset when setting the `ieee` parameter to `True`. \n",
    "\n",
    "The `store_predictions` parameter determines whether or not to keep the predictions made by the model. This defaults to False, because storing all the predictions might significantly increase RAM usage. \n",
    "\n",
    "Finally, the `verbose` parameter controls the level of output produced by the function."
   ]
  },
  {
   "cell_type": "markdown",
   "metadata": {},
   "source": [
    "| Parameter                 | Default | Meaning                                                                                                     |\n",
    "|---------------------------|:-------:|-------------------------------------------------------------------------------------------------------------|\n",
    "| source_sensor_id          |   N.A.  | ID of the sensor from which data is transferred                                                             |\n",
    "| target_sensor_id          |   N.A.  | ID of the sensor to which data is transferred                                                               |\n",
    "| method                    |  'both' | Method of transfer learning to use, either 'parameter_based_transfer', 'instance_based_transfer', or 'both' |\n",
    "| target_num_available_days |    15   | Number of days from the target sensor to use for training the model                                         |\n",
    "| target_num_test_days      |    30   | Number of days from the target sensor to use as a test set                                                  |\n",
    "| sliding_window            |  False  | Whether to use all possible windows of size target_num_available_days or a random one                       |\n",
    "| regressor                 |  model  | Base Model to use for transfer learning: must be a Neural Network for 'parameter_based_transfer' or 'both'  |\n",
    "| verbose                   |    0    | Level of output produced by the function                                                                    |\n",
    "| epochs                    |    15   | Number of epochs to use when training the model (if the model is a neural network)                          |\n",
    "| batch_size                |    32   | Batch size to use when training the model (if the model is a neural network)                                |\n",
    "| ieee                      |  False  | Whether to consider the IEEE738 estimation for the conductor temperature in the methods comparison          |\n",
    "| estimators_tradaboost     |    20   | Number of estimators to use in the TrAdaBoost.R2 instance-based approach                                    |\n",
    "| store_predictions         |   True  | Whether to keep the predictions made by the model                                                           |"
   ]
  },
  {
   "attachments": {},
   "cell_type": "markdown",
   "metadata": {},
   "source": [
    "The method `plot_results()` can be used to plot the columns of the results obtained from the previous. The plot has the testing day on the x-axis and the metric value on the y-axis, for all the different teted methods. "
   ]
  },
  {
   "cell_type": "code",
   "execution_count": null,
   "metadata": {},
   "outputs": [],
   "source": [
    "dtr.plot_results()"
   ]
  },
  {
   "attachments": {},
   "cell_type": "markdown",
   "metadata": {},
   "source": [
    "If the user needs the results table, for specific manipulations, she can get it using the following method `get_results()`. "
   ]
  },
  {
   "cell_type": "code",
   "execution_count": null,
   "metadata": {},
   "outputs": [],
   "source": [
    "results = dtr.get_results()"
   ]
  },
  {
   "attachments": {},
   "cell_type": "markdown",
   "metadata": {},
   "source": [
    "If the `store_predictions` was `True` in the `dtr.transfer()` function, the user can decide to visualize the temperature predicted by each method on one specific testing day.  the used needs the results table, for specific manipulations, she can get it using the following method `get_results`. "
   ]
  },
  {
   "cell_type": "code",
   "execution_count": null,
   "metadata": {},
   "outputs": [],
   "source": [
    "dtr.plot_predictions_for_day('2022-01-28')"
   ]
  },
  {
   "cell_type": "code",
   "execution_count": null,
   "metadata": {},
   "outputs": [],
   "source": [
    "dtr.get_predictions()"
   ]
  }
 ],
 "metadata": {
  "kernelspec": {
   "display_name": "DT4DTR",
   "language": "python",
   "name": "python3"
  },
  "language_info": {
   "name": "python",
   "version": "3.7.12 | packaged by conda-forge | (default, Oct 26 2021, 06:08:21) \n[GCC 9.4.0]"
  },
  "orig_nbformat": 4,
  "vscode": {
   "interpreter": {
    "hash": "8917b06a43e86b7fbf58da252d68bee571ce1809ea850861c1e5ad2d11c72f93"
   }
  }
 },
 "nbformat": 4,
 "nbformat_minor": 2
}
