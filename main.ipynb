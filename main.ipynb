{
 "cells": [
  {
   "cell_type": "code",
   "execution_count": null,
   "metadata": {},
   "outputs": [],
   "source": [
    "from dtr import DTR\n",
    "import pandas as pd\n",
    "from sklearn.ensemble import RandomForestRegressor\n",
    "from sklearn.tree import DecisionTreeRegressor\n",
    "from sklearn.linear_model import Ridge\n",
    "import time\n",
    "\n",
    "data = pd.read_csv('./data.zip',index_col=0, infer_datetime_format=True, parse_dates=['datetime'])\n",
    "inputs = ['Wind Speed [m/s]', 'Arranged Wind Dir [°]', 'Air temp [°C]', 'Humidity [%]', 'Sun irradiance thermal flow absorbed by the conductor.[W/m]', 'Current flow [A]']\n",
    "output = ['Actual Conductor Temp (t+1) [°C]']\n",
    "\n",
    "# Create the DTR object\n",
    "dtr = DTR(data)\n",
    "#dtr.compute_sensors_distance()\n",
    "dtr.load_distances('./distances.csv')\n",
    "s1, s2 = dtr.get_furthest_sensors()\n",
    "\n",
    "\n",
    "# r1 = dtr.instance_based_transfer(s1, s2, inputs, output, target_num_available_days=25, target_num_test_days=30, sliding_window=True, regressor=RandomForestRegressor(n_jobs=-1), estimators_tradaboost=30, verbose=1)\n",
    "start = time.time()\n",
    "r2 = dtr.parameter_based_transfer(s1, s2, inputs, output, target_num_available_days=25, target_num_test_days=30, sliding_window=True, verbose=1, epochs=15)\n",
    "\n",
    "r3 = dtr.parameter_based_transfer(s2, s1, inputs, output, target_num_available_days=25, target_num_test_days=30, sliding_window=True, verbose=1, epochs=15)\n",
    "\n",
    "r4 = dtr.parameter_based_transfer(7, 0, inputs, output, target_num_available_days=25, target_num_test_days=30, sliding_window=True, verbose=1, epochs=15)\n",
    "\n",
    "r5 = dtr.parameter_based_transfer(0, 7, inputs, output, target_num_available_days=25, target_num_test_days=30, sliding_window=True, verbose=1, epochs=15)\n",
    "\n",
    "\n",
    "end = time.time()\n",
    "roundend = round(end - start, 2)\n",
    "print(roundend)\n",
    "\n",
    "# print(r1)\n",
    "print(r2)\n",
    "print(r3)\n",
    "print(r4)\n",
    "print(r5)"
   ]
  }
 ],
 "metadata": {
  "language_info": {
   "name": "python"
  },
  "orig_nbformat": 4
 },
 "nbformat": 4,
 "nbformat_minor": 2
}
