{
 "cells": [
  {
   "cell_type": "code",
   "execution_count": 1,
   "metadata": {},
   "outputs": [],
   "source": [
    "import pandas as pd"
   ]
  },
  {
   "cell_type": "code",
   "execution_count": 2,
   "metadata": {},
   "outputs": [],
   "source": [
    "metrics = pd.read_csv('metrics2b.csv')"
   ]
  },
  {
   "cell_type": "code",
   "execution_count": 36,
   "metadata": {},
   "outputs": [
    {
     "data": {
      "text/plain": [
       "Index(['available_days', 'Source', 'Target', 'model', 'RMSE before smoothing',\n",
       "       'RMSE after smoothing', 'auxiliary'],\n",
       "      dtype='object')"
      ]
     },
     "execution_count": 36,
     "metadata": {},
     "output_type": "execute_result"
    }
   ],
   "source": [
    "metrics.columns"
   ]
  },
  {
   "cell_type": "code",
   "execution_count": null,
   "metadata": {},
   "outputs": [],
   "source": [
    "#make one df for unique values of Source column\n",
    "for source in metrics['Source'].unique():\n",
    "    df_source = metrics[metrics['Source'] == source]\n",
    "    df_source_pivot = df_source.pivot(index=['available_days','Source','Target'], columns='model', values='RMSE after smoothing')\n",
    "\n",
    "    df_source_pivot.to_csv('after_{}.csv'.format(source), index=True)"
   ]
  },
  {
   "cell_type": "code",
   "execution_count": 45,
   "metadata": {},
   "outputs": [],
   "source": [
    "for i in range(11):\n",
    "    df = pd.read_csv(f'after_{i}.csv')\n",
    "    #reored columns\n",
    "    df = df[['IEEE 738','Instance-based TL','Parameter-based TL','Source Only','Source \\& Target ','Target Only','Source','Target','available_days']]\n",
    "\n",
    "    df.to_csv(f'after_{i}.csv',index=False)"
   ]
  },
  {
   "cell_type": "code",
   "execution_count": 25,
   "metadata": {},
   "outputs": [],
   "source": [
    "df = metrics"
   ]
  },
  {
   "cell_type": "code",
   "execution_count": 37,
   "metadata": {},
   "outputs": [],
   "source": [
    "\n",
    "# Pivot the DataFrame\n",
    "df_pivot = df.pivot(index=['available_days','Source','Target'], columns='model', values='RMSE before smoothing')\n"
   ]
  },
  {
   "cell_type": "code",
   "execution_count": 38,
   "metadata": {},
   "outputs": [
    {
     "data": {
      "text/html": [
       "<div>\n",
       "<style scoped>\n",
       "    .dataframe tbody tr th:only-of-type {\n",
       "        vertical-align: middle;\n",
       "    }\n",
       "\n",
       "    .dataframe tbody tr th {\n",
       "        vertical-align: top;\n",
       "    }\n",
       "\n",
       "    .dataframe thead th {\n",
       "        text-align: right;\n",
       "    }\n",
       "</style>\n",
       "<table border=\"1\" class=\"dataframe\">\n",
       "  <thead>\n",
       "    <tr style=\"text-align: right;\">\n",
       "      <th></th>\n",
       "      <th></th>\n",
       "      <th>model</th>\n",
       "      <th>IEEE 738</th>\n",
       "      <th>Instance-based TL</th>\n",
       "      <th>Parameter-based TL</th>\n",
       "      <th>Source Only</th>\n",
       "      <th>Source \\&amp; Target</th>\n",
       "      <th>Target Only</th>\n",
       "    </tr>\n",
       "    <tr>\n",
       "      <th>available_days</th>\n",
       "      <th>Source</th>\n",
       "      <th>Target</th>\n",
       "      <th></th>\n",
       "      <th></th>\n",
       "      <th></th>\n",
       "      <th></th>\n",
       "      <th></th>\n",
       "      <th></th>\n",
       "    </tr>\n",
       "  </thead>\n",
       "  <tbody>\n",
       "    <tr>\n",
       "      <th rowspan=\"5\" valign=\"top\">5</th>\n",
       "      <th rowspan=\"5\" valign=\"top\">0</th>\n",
       "      <th>1</th>\n",
       "      <td>0.964377</td>\n",
       "      <td>2.823352</td>\n",
       "      <td>1.013376</td>\n",
       "      <td>0.973313</td>\n",
       "      <td>0.965533</td>\n",
       "      <td>5.006233</td>\n",
       "    </tr>\n",
       "    <tr>\n",
       "      <th>2</th>\n",
       "      <td>0.867229</td>\n",
       "      <td>2.508295</td>\n",
       "      <td>1.991018</td>\n",
       "      <td>1.093209</td>\n",
       "      <td>0.814636</td>\n",
       "      <td>4.206139</td>\n",
       "    </tr>\n",
       "    <tr>\n",
       "      <th>3</th>\n",
       "      <td>1.206974</td>\n",
       "      <td>1.611963</td>\n",
       "      <td>1.479202</td>\n",
       "      <td>1.246916</td>\n",
       "      <td>1.346459</td>\n",
       "      <td>2.010612</td>\n",
       "    </tr>\n",
       "    <tr>\n",
       "      <th>4</th>\n",
       "      <td>0.766033</td>\n",
       "      <td>2.255168</td>\n",
       "      <td>1.376736</td>\n",
       "      <td>0.930095</td>\n",
       "      <td>0.839632</td>\n",
       "      <td>1.467915</td>\n",
       "    </tr>\n",
       "    <tr>\n",
       "      <th>5</th>\n",
       "      <td>0.859345</td>\n",
       "      <td>0.854411</td>\n",
       "      <td>0.759089</td>\n",
       "      <td>0.826760</td>\n",
       "      <td>0.818515</td>\n",
       "      <td>0.906251</td>\n",
       "    </tr>\n",
       "    <tr>\n",
       "      <th>...</th>\n",
       "      <th>...</th>\n",
       "      <th>...</th>\n",
       "      <td>...</td>\n",
       "      <td>...</td>\n",
       "      <td>...</td>\n",
       "      <td>...</td>\n",
       "      <td>...</td>\n",
       "      <td>...</td>\n",
       "    </tr>\n",
       "    <tr>\n",
       "      <th rowspan=\"5\" valign=\"top\">25</th>\n",
       "      <th rowspan=\"5\" valign=\"top\">10</th>\n",
       "      <th>5</th>\n",
       "      <td>0.859345</td>\n",
       "      <td>0.939425</td>\n",
       "      <td>1.012509</td>\n",
       "      <td>0.845102</td>\n",
       "      <td>1.150024</td>\n",
       "      <td>1.084136</td>\n",
       "    </tr>\n",
       "    <tr>\n",
       "      <th>6</th>\n",
       "      <td>0.841670</td>\n",
       "      <td>2.668153</td>\n",
       "      <td>0.829577</td>\n",
       "      <td>0.859195</td>\n",
       "      <td>1.041577</td>\n",
       "      <td>1.188367</td>\n",
       "    </tr>\n",
       "    <tr>\n",
       "      <th>7</th>\n",
       "      <td>0.965064</td>\n",
       "      <td>1.648088</td>\n",
       "      <td>0.831273</td>\n",
       "      <td>1.140791</td>\n",
       "      <td>0.908765</td>\n",
       "      <td>0.989126</td>\n",
       "    </tr>\n",
       "    <tr>\n",
       "      <th>8</th>\n",
       "      <td>0.926628</td>\n",
       "      <td>1.951462</td>\n",
       "      <td>0.780162</td>\n",
       "      <td>0.861759</td>\n",
       "      <td>0.911926</td>\n",
       "      <td>1.113117</td>\n",
       "    </tr>\n",
       "    <tr>\n",
       "      <th>9</th>\n",
       "      <td>1.783451</td>\n",
       "      <td>1.741129</td>\n",
       "      <td>1.185029</td>\n",
       "      <td>1.455958</td>\n",
       "      <td>1.350091</td>\n",
       "      <td>1.435607</td>\n",
       "    </tr>\n",
       "  </tbody>\n",
       "</table>\n",
       "<p>542 rows × 6 columns</p>\n",
       "</div>"
      ],
      "text/plain": [
       "model                         IEEE 738  Instance-based TL  Parameter-based TL  \\\n",
       "available_days Source Target                                                    \n",
       "5              0      1       0.964377           2.823352            1.013376   \n",
       "                      2       0.867229           2.508295            1.991018   \n",
       "                      3       1.206974           1.611963            1.479202   \n",
       "                      4       0.766033           2.255168            1.376736   \n",
       "                      5       0.859345           0.854411            0.759089   \n",
       "...                                ...                ...                 ...   \n",
       "25             10     5       0.859345           0.939425            1.012509   \n",
       "                      6       0.841670           2.668153            0.829577   \n",
       "                      7       0.965064           1.648088            0.831273   \n",
       "                      8       0.926628           1.951462            0.780162   \n",
       "                      9       1.783451           1.741129            1.185029   \n",
       "\n",
       "model                         Source Only  Source \\& Target   Target Only  \n",
       "available_days Source Target                                               \n",
       "5              0      1          0.973313           0.965533     5.006233  \n",
       "                      2          1.093209           0.814636     4.206139  \n",
       "                      3          1.246916           1.346459     2.010612  \n",
       "                      4          0.930095           0.839632     1.467915  \n",
       "                      5          0.826760           0.818515     0.906251  \n",
       "...                                   ...                ...          ...  \n",
       "25             10     5          0.845102           1.150024     1.084136  \n",
       "                      6          0.859195           1.041577     1.188367  \n",
       "                      7          1.140791           0.908765     0.989126  \n",
       "                      8          0.861759           0.911926     1.113117  \n",
       "                      9          1.455958           1.350091     1.435607  \n",
       "\n",
       "[542 rows x 6 columns]"
      ]
     },
     "execution_count": 38,
     "metadata": {},
     "output_type": "execute_result"
    }
   ],
   "source": [
    "df_pivot"
   ]
  }
 ],
 "metadata": {
  "kernelspec": {
   "display_name": "advo",
   "language": "python",
   "name": "python3"
  },
  "language_info": {
   "codemirror_mode": {
    "name": "ipython",
    "version": 3
   },
   "file_extension": ".py",
   "mimetype": "text/x-python",
   "name": "python",
   "nbconvert_exporter": "python",
   "pygments_lexer": "ipython3",
   "version": "3.8.16"
  },
  "orig_nbformat": 4
 },
 "nbformat": 4,
 "nbformat_minor": 2
}
