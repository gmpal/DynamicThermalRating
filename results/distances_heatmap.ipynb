{
 "cells": [
  {
   "cell_type": "code",
   "execution_count": 2,
   "metadata": {},
   "outputs": [],
   "source": [
    "import pandas as pd\n",
    "import seaborn as sns "
   ]
  },
  {
   "cell_type": "code",
   "execution_count": 11,
   "metadata": {},
   "outputs": [],
   "source": [
    "distances = pd.read_csv(\"distances.csv\")\n",
    "distances['sensor2'] = distances['sensor2'].astype(int)\n",
    "distances['sensor1'] = distances['sensor1'].astype(int)\n",
    "\n",
    "#rename to 'first sensor'\n",
    "distances['First Sensor'] = distances['sensor1']\n",
    "distances['First Sensor'] += 1\n",
    "\n",
    "distances['Second Sensor'] = distances['sensor2']\n",
    "distances['Second Sensor'] += 1\n",
    "distances = distances.drop(['sensor1', 'sensor2'], axis=1)\n",
    "\n",
    "df_pivot = distances.pivot_table(index='First Sensor', columns='Second Sensor', values='euclidean_distance')\n"
   ]
  },
  {
   "cell_type": "code",
   "execution_count": 12,
   "metadata": {},
   "outputs": [
    {
     "data": {
      "text/plain": [
       "<AxesSubplot:xlabel='Second Sensor', ylabel='First Sensor'>"
      ]
     },
     "execution_count": 12,
     "metadata": {},
     "output_type": "execute_result"
    },
    {
     "data": {
      "image/png": "[encoded data removed]",
      "text/plain": [
       "<Figure size 432x288 with 2 Axes>"
      ]
     },
     "metadata": {
      "needs_background": "light"
     },
     "output_type": "display_data"
    }
   ],
   "source": [
    "# Define the color palette\n",
    "color_palette = sns.color_palette(\"viridis\", as_cmap=True)\n",
    "\n",
    "# Create the heatmap\n",
    "sns.heatmap(df_pivot, cmap=color_palette, annot=False, fmt=\".2f\", linewidths=.5, cbar_kws={'label': 'Euclidean Distance'})"
   ]
  },
  {
   "cell_type": "code",
   "execution_count": null,
   "metadata": {},
   "outputs": [],
   "source": [
    "# Define the color palette\n",
    "color_palette = sns.color_palette(\"viridis\", as_cmap=True)\n",
    "\n",
    "# Create the heatmap\n",
    "sns.heatmap(df_pivot, cmap=color_palette, annot=False, fmt=\".2f\", linewidths=.5, cbar_kws={'label': 'Euclidean Distance'})"
   ]
  }
 ],
 "metadata": {
  "kernelspec": {
   "display_name": "DT4DTR",
   "language": "python",
   "name": "python3"
  },
  "language_info": {
   "codemirror_mode": {
    "name": "ipython",
    "version": 3
   },
   "file_extension": ".py",
   "mimetype": "text/x-python",
   "name": "python",
   "nbconvert_exporter": "python",
   "pygments_lexer": "ipython3",
   "version": "3.7.12"
  },
  "orig_nbformat": 4,
  "vscode": {
   "interpreter": {
    "hash": "8917b06a43e86b7fbf58da252d68bee571ce1809ea850861c1e5ad2d11c72f93"
   }
  }
 },
 "nbformat": 4,
 "nbformat_minor": 2
}
